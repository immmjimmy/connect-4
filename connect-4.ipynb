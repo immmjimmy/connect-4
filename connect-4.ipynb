{
 "cells": [
  {
   "attachments": {},
   "cell_type": "markdown",
   "metadata": {},
   "source": [
    "# Connect 4\n",
    "\n",
    "This project is an implementation of Connect 4. It features a GUI that allows users to play against their friends or against the built-in bot. You can even pit the bot against itself (this will result in the same outcome every game).\n",
    "\n",
    "![Connect-4-Screenshot](./connect-4-screenshot.png)"
   ]
  },
  {
   "cell_type": "markdown",
   "metadata": {},
   "source": [
    "## Features\n",
    "- GUI was built using Tkinter\n",
    "- Bot was built using Python3 and uses the [alpha-beta pruning algorithm](https://en.wikipedia.org/wiki/Alpha%E2%80%93beta_pruning)\n",
    "    - Comes with two difficulty levels: Easy and Hard\n",
    "        - Easy looks 3 turns ahead.\n",
    "        - Hard looks 4 turns ahead.\n",
    "        \n",
    "    - Uses a heuristic that determines the state of the board by the number of 4-in-a-rows a player could make\n",
    "- Allows user to play against another human through a selection menu\n",
    "- Comes with a back button to undo the previous turn (and the turns before that)"
   ]
  },
  {
   "cell_type": "markdown",
   "metadata": {},
   "source": [
    "## Run\n",
    "1. To run this project, either clone this repo or download a zip file (and uncompress) of it.\n",
    "2. Open your terminal and change your directory to this folder.\n",
    "3. Ensure that you have python installed and run `python main.py`"
   ]
  }
 ],
 "metadata": {
  "kernelspec": {
   "display_name": "Python 3",
   "language": "python",
   "name": "python3"
  },
  "language_info": {
   "codemirror_mode": {
    "name": "ipython",
    "version": 3
   },
   "file_extension": ".py",
   "mimetype": "text/x-python",
   "name": "python",
   "nbconvert_exporter": "python",
   "pygments_lexer": "ipython3",
   "version": "3.6.5"
  }
 },
 "nbformat": 4,
 "nbformat_minor": 2
}
